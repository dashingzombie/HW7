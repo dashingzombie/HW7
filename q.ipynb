{
 "cells": [
  {
   "cell_type": "code",
   "execution_count": 25,
   "metadata": {},
   "outputs": [
    {
     "name": "stdout",
     "output_type": "stream",
     "text": [
      "Final Q-table:\n",
      "{'A': [4.987551049880311, 3.9979686050317973], 'B': [4.998501546635609, 3.9837480441318416]}\n"
     ]
    }
   ],
   "source": [
    "import numpy as np\n",
    "\n",
    "\n",
    "\n",
    "alpha = 0.5\n",
    "gamma = 0.8\n",
    "epsilon = 0.5\n",
    "num_steps = 200\n",
    "states = ['A','B']\n",
    "actions = ['S','M']\n",
    "\n",
    "\n",
    "Q = { s: [0 for a in actions] for s in states}\n",
    "\n",
    "\n",
    "s = states[0]\n",
    "def get_optimal_action(s_next):\n",
    "    q = Q[s_next]\n",
    "    if q[0] > q[1]:\n",
    "        optimal_action = 0\n",
    "    else:\n",
    "        optimal_action = 1\n",
    "    return optimal_action\n",
    "\n",
    "for _ in range(num_steps):\n",
    "    x = np.random.rand()\n",
    "    a = 0\n",
    "    if x < epsilon:\n",
    "        a = np.random.choice(2)\n",
    "    else:\n",
    "        a = get_optimal_action(s)\n",
    "    \n",
    "    \n",
    "    \n",
    "    if a == 1:\n",
    "        if s == states[0]:\n",
    "            s_next = states[1]\n",
    "        else:\n",
    "            s_next = states[0]\n",
    "    else:\n",
    "        s_next = s\n",
    "    r = 0\n",
    "    if s == s_next:\n",
    "        r = 1\n",
    "   \n",
    "    optimal_action = get_optimal_action(s_next)\n",
    "    Q[s][a] = ((1 - alpha) * (Q[s][a])) + ((alpha) * (r + gamma * Q[s_next][optimal_action]))\n",
    "  \n",
    "    s = s_next\n",
    "    \n",
    "\n",
    "print(\"Final Q-table:\")\n",
    "print(Q)\n"
   ]
  },
  {
   "cell_type": "code",
   "execution_count": 26,
   "metadata": {},
   "outputs": [
    {
     "name": "stdout",
     "output_type": "stream",
     "text": [
      "Final Q-table:\n",
      "{'A': [0, 0.0], 'B': [0, 0.0]}\n"
     ]
    }
   ],
   "source": [
    "import numpy as np\n",
    "\n",
    "\n",
    "\n",
    "alpha = 0.5\n",
    "gamma = 0.8\n",
    "epsilon = 0\n",
    "num_steps = 200\n",
    "states = ['A','B']\n",
    "actions = ['S','M']\n",
    "\n",
    "\n",
    "Q = { s: [0 for a in actions] for s in states}\n",
    "\n",
    "\n",
    "s = states[0]\n",
    "def get_optimal_action(s_next):\n",
    "    q = Q[s_next]\n",
    "    if q[0] > q[1]:\n",
    "        optimal_action = 0\n",
    "    else:\n",
    "        optimal_action = 1\n",
    "    return optimal_action\n",
    "\n",
    "for _ in range(num_steps):\n",
    "    x = np.random.rand()\n",
    "    a = 0\n",
    "    if x < epsilon:\n",
    "        a = np.random.choice(2)\n",
    "    else:\n",
    "        a = get_optimal_action(s)\n",
    "    \n",
    "    \n",
    "    \n",
    "    if a == 1:\n",
    "        if s == states[0]:\n",
    "            s_next = states[1]\n",
    "        else:\n",
    "            s_next = states[0]\n",
    "    else:\n",
    "        s_next = s\n",
    "    r = 0\n",
    "    if s == s_next:\n",
    "        r = 1\n",
    "   \n",
    "    optimal_action = get_optimal_action(s_next)\n",
    "    Q[s][a] = ((1 - alpha) * (Q[s][a])) + ((alpha) * (r + gamma * Q[s_next][optimal_action]))\n",
    "  \n",
    "    s = s_next\n",
    "    \n",
    "\n",
    "print(\"Final Q-table:\")\n",
    "print(Q)\n"
   ]
  }
 ],
 "metadata": {
  "kernelspec": {
   "display_name": "Python 3",
   "language": "python",
   "name": "python3"
  },
  "language_info": {
   "codemirror_mode": {
    "name": "ipython",
    "version": 3
   },
   "file_extension": ".py",
   "mimetype": "text/x-python",
   "name": "python",
   "nbconvert_exporter": "python",
   "pygments_lexer": "ipython3",
   "version": "3.10.12"
  }
 },
 "nbformat": 4,
 "nbformat_minor": 2
}
